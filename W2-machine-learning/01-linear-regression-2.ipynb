{
 "cells": [
  {
   "cell_type": "markdown",
   "id": "5adf8e0c",
   "metadata": {},
   "source": [
    "# Linear Regression with Machine Learning -- Part 2\n",
    "\n",
    "This notebook is for a workshop at STLinATL 2023. It is adapted the course [Supervised Machine Learning: Regression and Classification](https://www.coursera.org/learn/machine-learning/home/info) by Andrew Ng.\n"
   ]
  },
  {
   "cell_type": "markdown",
   "id": "c5559e84",
   "metadata": {},
   "source": [
    "## Problem Statement\n",
    "\n",
    "You want to use ML to predict housing price given the size of the house. The input (or *feature*) is the size of the house, and the output (or *target*) is the price. Using a training set, you will implement a learning model that calculates the optimal parameters of the model.\n",
    "\n",
    "We will start with the same two data points as the previous notebook - a house with 1000 square feet sold for \\\\$300,000 and a house with 2000 square feet sold for \\\\$500,000.\n",
    "\n",
    "| Size (1000 sqft)     | Price (1000s of dollars) |\n",
    "| ----------------| ------------------------ |\n",
    "| 1               | 300                      |\n",
    "| 2               | 500                      |\n"
   ]
  },
  {
   "cell_type": "markdown",
   "id": "2b14f031",
   "metadata": {},
   "source": [
    "## Goals\n",
    "\n",
    "You will\n",
    "\n",
    "- automate the process of optimizing $w$ and $b$ using gradient descent.\n",
    "- use the model to predict home price for a given size."
   ]
  },
  {
   "cell_type": "markdown",
   "id": "741b794a",
   "metadata": {},
   "source": [
    "## Notation\n",
    "Here is a summary of the notation we will use.  \n",
    "\n",
    "|General <img width=70/> <br />  Notation  <img width=70/> | Description<img width=350/>| Python (if applicable) |\n",
    "|: ------------|: ------------------------------------------------------------||\n",
    "| $a$ | scalar                                                      ||\n",
    "| $\\vec{a}$ | vector                                                      ||\n",
    "| **Regression** |         |    |     |\n",
    "|  $\\vec{x}$ | inputs, or features: in this notebook, Size (1000 sqft)  | `x_train` |   \n",
    "|  $\\vec{y}$  | output, or targets: in this notebook, Price (1000s of dollars)  | `y_train` \n",
    "|  $x^{(i)}$, $y^{(i)}$ | $i_{th}$ training example | `x_i`, `y_i`|\n",
    "| m | number of training examples | `m`|\n",
    "|  $w$  |  parameter: weight,                                 | `w`    |\n",
    "|  $b$           |  parameter: bias                                           | `b`    |     \n",
    "| $f_{w,b}(x^{(i)})$ | The result of the model evaluation at $x^{(i)}$ parameterized by $w,b$: $f_{w,b}(x^{(i)}) = wx^{(i)}+b$  | `f_wb` | \n"
   ]
  },
  {
   "cell_type": "markdown",
   "id": "40c82d7e",
   "metadata": {},
   "source": [
    "## Import\n",
    "\n",
    "Import common Python packages."
   ]
  },
  {
   "cell_type": "code",
   "execution_count": 1,
   "id": "3b66feb3",
   "metadata": {},
   "outputs": [],
   "source": [
    "import numpy as np\n",
    "import matplotlib.pyplot as plt\n",
    "import math, copy"
   ]
  },
  {
   "cell_type": "markdown",
   "id": "eeb2c581",
   "metadata": {},
   "source": [
    "## Training Set\n",
    "\n",
    "Define the training set."
   ]
  },
  {
   "cell_type": "code",
   "execution_count": 2,
   "id": "4fb7896e",
   "metadata": {},
   "outputs": [
    {
     "name": "stdout",
     "output_type": "stream",
     "text": [
      "x_train = [1. 2.]\n",
      "y_train = [300. 500.]\n",
      "Number of training examples is: 2\n"
     ]
    }
   ],
   "source": [
    "# x_train is the input variable (size in 1000 square feet)\n",
    "# y_train is the target (price in 1000s of dollars)\n",
    "x_train = np.array([1.0, 2.0])\n",
    "y_train = np.array([300.0, 500.0])\n",
    "print(f\"x_train = {x_train}\")\n",
    "print(f\"y_train = {y_train}\")\n",
    "\n",
    "# m is the number of training examples\n",
    "m = len(x_train)\n",
    "print(f\"Number of training examples is: {m}\")"
   ]
  },
  {
   "cell_type": "markdown",
   "id": "6073370d",
   "metadata": {},
   "source": [
    "## Plot the training set\n",
    "\n",
    "You can plot the training set using the `scatter()` function in the `matplotlib` library, as shown in the cell below. \n",
    "\n",
    "The function arguments `marker` and `c` show the points as red crosses (the default is blue dots). You can use other functions in the `matplotlib` library to set the title and labels to display\n",
    "\n",
    "In this case, the code needed to plot the training set is in the function `plot_train()` so that we can call it later with a different training set."
   ]
  },
  {
   "cell_type": "code",
   "execution_count": 3,
   "id": "db2acadd",
   "metadata": {},
   "outputs": [],
   "source": [
    "def plot_train(x, y):\n",
    "    \"\"\"\n",
    "    Plots the training set\n",
    "    \n",
    "    Args:\n",
    "      x (ndarray (m,)): input features, m samples \n",
    "      y (ndarray (m,)): target values\n",
    "      \n",
    "    Returns\n",
    "      fig (Figure): pyplot figure\n",
    "    \"\"\"\n",
    "    \n",
    "    #create a figure\n",
    "    fig = plt.figure()\n",
    "    \n",
    "    # Plot the data points\n",
    "    plt.scatter(x_train, y_train, marker='x', c='r')\n",
    "\n",
    "    # Set the title\n",
    "    plt.title(\"Housing Prices\")\n",
    "\n",
    "    # Set the y-axis label\n",
    "    plt.ylabel('Price (in 1000s of dollars)')\n",
    "\n",
    "    # Set the x-axis label\n",
    "    plt.xlabel('Size (1000 sqft)')\n",
    "\n",
    "    # Display the plot\n",
    "    plt.show()\n",
    "    \n",
    "    return fig"
   ]
  },
  {
   "cell_type": "code",
   "execution_count": 4,
   "id": "1f41de25",
   "metadata": {},
   "outputs": [
    {
     "data": {
      "image/png": "[encoded data removed]",
      "text/plain": [
       "<Figure size 432x288 with 1 Axes>"
      ]
     },
     "metadata": {
      "needs_background": "light"
     },
     "output_type": "display_data"
    }
   ],
   "source": [
    "fig = plot_train(x_train,y_train)"
   ]
  },
  {
   "cell_type": "markdown",
   "id": "30d60dbc",
   "metadata": {},
   "source": [
    "\n",
    "## Gradient descent summary\n",
    "\n",
    "The linear model predicts $f_{w,b}(x^{(i)})$:\n",
    "\n",
    "$$f_{w,b}(x^{(i)}) = wx^{(i)} + b \\tag{1}$$\n",
    "\n",
    "In linear regression, you utilize input training data to fit the parameters $w$,$b$ by minimizing a measure of the error between our prediction $f_{w,b}(x^{(i)})$ and the target example $y^{(i)}$. The measure is called the $cost$, $J(w,b)$. In training, you measure the cost over all the training examples $x^{(i)},y^{(i)}$.\n",
    "\n",
    "$$J(w,b) = \\frac{1}{2m} \\sum\\limits_{i = 0}^{m-1} (f_{w,b}(x^{(i)}) - y^{(i)})^2\\tag{2}$$ "
   ]
  },
  {
   "cell_type": "markdown",
   "id": "3159c9d3",
   "metadata": {},
   "source": [
    "\n",
    "The method of *gradient descent* refers to iteratively changing the value of $w$ and $b$ using:\n",
    "\n",
    "$$\\begin{align*} \\text{repeat}&\\text{ until convergence:} \\; \\lbrace \\newline\n",
    "\\;  w &= w -  \\alpha \\frac{\\partial J(w,b)}{\\partial w} \\tag{3}  \\; \\newline \n",
    " b &= b -  \\alpha \\frac{\\partial J(w,b)}{\\partial b}  \\newline \\rbrace\n",
    "\\end{align*}$$\n",
    "where, parameters $w$, $b$ are updated simultaneously.  \n",
    "\n",
    "The gradient is defined as:\n",
    "\n",
    "$$\n",
    "\\begin{align}\n",
    "\\frac{\\partial J(w,b)}{\\partial w}  &= \\frac{1}{m} \\sum\\limits_{i = 0}^{m-1} (f_{w,b}(x^{(i)}) - y^{(i)})x^{(i)} \\tag{4}\\\\\n",
    "  \\frac{\\partial J(w,b)}{\\partial b}  &= \\frac{1}{m} \\sum\\limits_{i = 0}^{m-1} (f_{w,b}(x^{(i)}) - y^{(i)}) \\tag{5}\\\\\n",
    "\\end{align}\n",
    "$$\n",
    "\n",
    "Here *simultaniously* means that you calculate the partial derivatives for all the parameters before updating any of the parameters."
   ]
  },
  {
   "cell_type": "markdown",
   "id": "a7dd82a3",
   "metadata": {},
   "source": [
    "## Implement Gradient Descent\n",
    "\n",
    "You will implement gradient descent algorithm for one feature. You will need three functions. \n",
    "\n",
    "- `compute_gradient` implementing equations (4) and (5) above\n",
    "- `compute_cost` implementing equation (2) above (code from previous notebook)\n",
    "- `gradient_descent` utilizing compute_gradient and compute_cost\n",
    "\n",
    "Conventions:\n",
    "\n",
    "- The naming of python variables containing partial derivatives follows this pattern,$\\frac{\\partial J(w,b)}{\\partial b}$  will be `dj_db`.\n",
    "- w.r.t means \"with respect to\" such as the partial derivative of $J(wb)$ with repect to $b$.\n"
   ]
  },
  {
   "cell_type": "markdown",
   "id": "d5401564",
   "metadata": {},
   "source": [
    "### Define the model function $f_{wb}(x^{(i)})$\n",
    "\n",
    "The `calc_f()` python function calculates and returns the prediction, $f_{wb}(x^{(i)})$, for a given input variable."
   ]
  },
  {
   "cell_type": "code",
   "execution_count": 5,
   "id": "b93830b4",
   "metadata": {},
   "outputs": [],
   "source": [
    "def calc_f(x, w, b):\n",
    "    \"\"\"\n",
    "    Computes the prediction f_wb of a linear model\n",
    "    \n",
    "    Args:\n",
    "      x (ndarray (m,)): input features, m samples \n",
    "      w,b (scalar)    : model parameters  \n",
    "      \n",
    "    Returns\n",
    "      f_wb (ndarray (m,)): target values\n",
    "    \"\"\"\n",
    "    \n",
    "    m = x.shape[0]\n",
    "    f_wb = np.zeros(m)\n",
    "    for i in range(m):\n",
    "        f_wb[i] = w * x[i] + b\n",
    "        \n",
    "    return f_wb"
   ]
  },
  {
   "cell_type": "markdown",
   "id": "87a2717d",
   "metadata": {},
   "source": [
    "### Define the cost function"
   ]
  },
  {
   "cell_type": "markdown",
   "id": "8d2e3cf9",
   "metadata": {},
   "source": [
    "The `compute_cost()` python function calculates and returns the cost. It loops through the training examples $x^{(i)}$. In each loop, it:\n",
    "\n",
    "- calculates the prediction `f_wb`,\n",
    "- calculates the square of the difference between the prediction and the target,\n",
    "- adds the contribution to the total cost (sum)."
   ]
  },
  {
   "cell_type": "code",
   "execution_count": 6,
   "id": "548af32f",
   "metadata": {},
   "outputs": [],
   "source": [
    "def compute_cost(x, y, w, b): \n",
    "    \"\"\"\n",
    "    Computes the cost function for linear regression.\n",
    "    \n",
    "    Args:\n",
    "      x (ndarray (m,)): Data, m examples \n",
    "      y (ndarray (m,)): target values\n",
    "      w,b (scalar)    : model parameters  \n",
    "    \n",
    "    Returns\n",
    "        total_cost (float): The cost of using w,b as the parameters for linear regression\n",
    "               to fit the data points in x and y\n",
    "    \"\"\"\n",
    "    # number of training examples\n",
    "    m = x.shape[0] \n",
    "    \n",
    "    cost_sum = 0 \n",
    "    for i in range(m): \n",
    "        f_wb = w * x[i] + b   \n",
    "        cost = (f_wb - y[i]) ** 2  \n",
    "        cost_sum = cost_sum + cost  \n",
    "    total_cost = (1 / (2 * m)) * cost_sum  \n",
    "\n",
    "    return total_cost"
   ]
  },
  {
   "cell_type": "markdown",
   "id": "a14b000f",
   "metadata": {},
   "source": [
    "### compute_gradient\n",
    "\n",
    "The `compute_gradient()` python function implements equations (4) and (5) above and returns $\\frac{\\partial J(w,b)}{\\partial w}$,$\\frac{\\partial J(w,b)}{\\partial b}$. The embedded comments describe the operations."
   ]
  },
  {
   "cell_type": "code",
   "execution_count": 7,
   "id": "00e16171",
   "metadata": {},
   "outputs": [],
   "source": [
    "def compute_gradient(x, y, w, b): \n",
    "    \"\"\"\n",
    "    Computes the gradient for linear regression \n",
    "    Args:\n",
    "      x (ndarray (m,)): Data, m examples \n",
    "      y (ndarray (m,)): target values\n",
    "      w,b (scalar)    : model parameters  \n",
    "    Returns\n",
    "      dj_dw (scalar): The gradient of the cost w.r.t. the parameters w\n",
    "      dj_db (scalar): The gradient of the cost w.r.t. the parameter b     \n",
    "     \"\"\"\n",
    "    \n",
    "    # Number of training examples\n",
    "    m = x.shape[0]    \n",
    "    dj_dw = 0\n",
    "    dj_db = 0\n",
    "    \n",
    "    dj_dw_sum = 0\n",
    "    dj_db_sum = 0\n",
    "    \n",
    "    for i in range(m):  \n",
    "        f_wb = w * x[i] + b #calc f\n",
    "        dj_dw_i = (f_wb - y[i]) * x[i] #calc ith term of dj_dw\n",
    "        dj_db_i = f_wb - y[i] #calc ith term of dj_db\n",
    "        dj_dw_sum = dj_dw_sum + dj_dw_i #add the ith term of dj_dw to the sum\n",
    "        dj_db_sum = dj_db_sum + dj_db_i #add the ith term of dj_db to the sum\n",
    "    dj_dw = dj_dw_sum / m #divide the sum by m\n",
    "    dj_db = dj_db_sum / m #divide the sum by m\n",
    "        \n",
    "    return dj_dw, dj_db"
   ]
  },
  {
   "cell_type": "markdown",
   "id": "a9582dce",
   "metadata": {},
   "source": [
    "###  Gradient Descent\n",
    "\n",
    "Now that gradients can be computed, the method of *gradient descent*, as described in equation (3) above, can be implemented in the python function `gradient_descent()`. The details of the implementation are described in the comments. Below, you will utilize this function to find optimal values of $w$ and $b$ on the training data."
   ]
  },
  {
   "cell_type": "code",
   "execution_count": 8,
   "id": "72809192",
   "metadata": {},
   "outputs": [],
   "source": [
    "def gradient_descent(x, y, w_in, b_in, alpha, num_iters, cost_function, gradient_function): \n",
    "    \"\"\"\n",
    "    Performs gradient descent to fit w,b. Updates w,b by taking \n",
    "    num_iters gradient steps with learning rate alpha\n",
    "    \n",
    "    Args:\n",
    "      x (ndarray (m,))  : Data, m examples \n",
    "      y (ndarray (m,))  : target values\n",
    "      w_in,b_in (scalar): initial values of model parameters  \n",
    "      alpha (float):     Learning rate\n",
    "      num_iters (int):   number of iterations to run gradient descent\n",
    "      cost_function:     function to call to calculate cost\n",
    "      gradient_function: function to call to calculate gradient\n",
    "      \n",
    "    Returns:\n",
    "      w (scalar): Updated value of parameter after running gradient descent\n",
    "      b (scalar): Updated value of parameter after running gradient descent\n",
    "      J_history (List): History of cost values\n",
    "      p_history (list): History of parameters [w,b] \n",
    "      \"\"\"\n",
    "    \n",
    "    w = copy.deepcopy(w_in) # avoid modifying global w_in\n",
    "    # An array to store cost J and w's at each iteration primarily for graphing later\n",
    "    J_history = []\n",
    "    p_history = []\n",
    "    b = b_in\n",
    "    w = w_in\n",
    "    \n",
    "    for i in range(num_iters):\n",
    "        # Calculate the gradient and update the parameters using gradient_function\n",
    "        dj_dw, dj_db = gradient_function(x, y, w , b)     \n",
    "\n",
    "        # Update Parameters using equation (3) above\n",
    "        b = b - alpha * dj_db                            \n",
    "        w = w - alpha * dj_dw                            \n",
    "\n",
    "        # Save cost J at each iteration\n",
    "        if i<100000:      # prevent resource exhaustion \n",
    "            J_history.append( cost_function(x, y, w , b))\n",
    "            p_history.append([w,b])\n",
    "        # Print cost every at intervals 10 times or as many iterations if < 10\n",
    "        if i% math.ceil(num_iters/10) == 0:\n",
    "            print(f\"Iteration {i:4}: Cost {J_history[-1]:0.2e} \",\n",
    "                  f\"dj_dw: {dj_dw: 0.3e}, dj_db: {dj_db: 0.3e}  \",\n",
    "                  f\"w: {w: 0.3e}, b:{b: 0.5e}\")\n",
    " \n",
    "    return w, b, J_history, p_history #return w and J,w history for graphing"
   ]
  },
  {
   "cell_type": "markdown",
   "id": "bf819d20",
   "metadata": {},
   "source": [
    "## Implement learning model\n",
    "\n",
    "We will iteratively apply gradient descent to update the values of $w$ and $b$. Every 1000 iterations, we will print the cost, $\\frac{\\partial J(w,b)}{\\partial w}$, $\\frac{\\partial J(w,b)}{\\partial b}$, and the values of $w$ and $b$."
   ]
  },
  {
   "cell_type": "code",
   "execution_count": 9,
   "id": "373a57fd",
   "metadata": {},
   "outputs": [
    {
     "name": "stdout",
     "output_type": "stream",
     "text": [
      "Iteration    0: Cost 7.93e+04  dj_dw: -6.500e+02, dj_db: -4.000e+02   w:  6.500e+00, b: 4.00000e+00\n",
      "Iteration 1000: Cost 3.41e+00  dj_dw: -3.712e-01, dj_db:  6.007e-01   w:  1.949e+02, b: 1.08228e+02\n",
      "Iteration 2000: Cost 7.93e-01  dj_dw: -1.789e-01, dj_db:  2.895e-01   w:  1.975e+02, b: 1.03966e+02\n",
      "Iteration 3000: Cost 1.84e-01  dj_dw: -8.625e-02, dj_db:  1.396e-01   w:  1.988e+02, b: 1.01912e+02\n",
      "Iteration 4000: Cost 4.28e-02  dj_dw: -4.158e-02, dj_db:  6.727e-02   w:  1.994e+02, b: 1.00922e+02\n",
      "Iteration 5000: Cost 9.95e-03  dj_dw: -2.004e-02, dj_db:  3.243e-02   w:  1.997e+02, b: 1.00444e+02\n",
      "Iteration 6000: Cost 2.31e-03  dj_dw: -9.660e-03, dj_db:  1.563e-02   w:  1.999e+02, b: 1.00214e+02\n",
      "Iteration 7000: Cost 5.37e-04  dj_dw: -4.657e-03, dj_db:  7.535e-03   w:  1.999e+02, b: 1.00103e+02\n",
      "Iteration 8000: Cost 1.25e-04  dj_dw: -2.245e-03, dj_db:  3.632e-03   w:  2.000e+02, b: 1.00050e+02\n",
      "Iteration 9000: Cost 2.90e-05  dj_dw: -1.082e-03, dj_db:  1.751e-03   w:  2.000e+02, b: 1.00024e+02\n",
      "\n",
      "(w,b) found by gradient descent: (199.9929,100.0116)\n"
     ]
    }
   ],
   "source": [
    "# initialize parameters\n",
    "w_init = 0\n",
    "b_init = 0\n",
    "\n",
    "# some gradient descent settings\n",
    "iterations = 10000\n",
    "tmp_alpha = 1.0e-2\n",
    "\n",
    "# run gradient descent\n",
    "w_final, b_final, J_hist, p_hist = gradient_descent(x_train ,y_train, w_init, b_init, tmp_alpha, \n",
    "                                                    iterations, compute_cost, compute_gradient)\n",
    "print()\n",
    "print(f\"(w,b) found by gradient descent: ({w_final:8.4f},{b_final:8.4f})\")"
   ]
  },
  {
   "cell_type": "markdown",
   "id": "8ab5f5b7",
   "metadata": {},
   "source": [
    "## Exercise 1\n",
    "\n",
    "1. How does the cost $J(w,b)$ change with each iteration?\n",
    "2. How do the deriatives $\\frac{\\partial J(w,b)}{\\partial w}$ and $\\frac{\\partial J(w,b)}{\\partial b}$ change with each iteration?"
   ]
  },
  {
   "cell_type": "code",
   "execution_count": null,
   "id": "c8567614",
   "metadata": {},
   "outputs": [],
   "source": []
  },
  {
   "cell_type": "markdown",
   "id": "4a01501a",
   "metadata": {},
   "source": [
    "## Use a larger data set\n",
    "\n",
    "It's instructive to use a training set with more examples. The training set below includes examples that do not fall on the same line. What does that mean for the cost equation? Can we find $w$, and $b$ that will give us a cost close to 0? "
   ]
  },
  {
   "cell_type": "code",
   "execution_count": 10,
   "id": "2a7b0ae3",
   "metadata": {},
   "outputs": [
    {
     "data": {
      "image/png": "[encoded data removed]",
      "text/plain": [
       "<Figure size 432x288 with 1 Axes>"
      ]
     },
     "metadata": {
      "needs_background": "light"
     },
     "output_type": "display_data"
    }
   ],
   "source": [
    "x_train = np.array([1.0, 1.7, 2.0, 2.5, 3.0, 3.2])\n",
    "y_train = np.array([250, 300, 480,  430,   630, 730,])\n",
    "\n",
    "fig = plot_train(x_train,y_train)"
   ]
  },
  {
   "cell_type": "markdown",
   "id": "bde0a4e7",
   "metadata": {},
   "source": [
    "## Implement the learning model"
   ]
  },
  {
   "cell_type": "code",
   "execution_count": 11,
   "id": "9a7653eb",
   "metadata": {},
   "outputs": [
    {
     "name": "stdout",
     "output_type": "stream",
     "text": [
      "Iteration    0: Cost 1.09e+05  dj_dw: -1.170e+03, dj_db: -4.700e+02   w:  1.170e+01, b: 4.70000e+00\n",
      "Iteration 1000: Cost 1.78e+03  dj_dw: -1.060e+00, dj_db:  2.599e+00   w:  1.974e+02, b: 3.16325e+01\n",
      "Iteration 2000: Cost 1.74e+03  dj_dw: -4.357e-01, dj_db:  1.068e+00   w:  2.045e+02, b: 1.44256e+01\n",
      "Iteration 3000: Cost 1.74e+03  dj_dw: -1.790e-01, dj_db:  4.388e-01   w:  2.074e+02, b: 7.35495e+00\n",
      "Iteration 4000: Cost 1.74e+03  dj_dw: -7.357e-02, dj_db:  1.803e-01   w:  2.085e+02, b: 4.44950e+00\n",
      "Iteration 5000: Cost 1.74e+03  dj_dw: -3.023e-02, dj_db:  7.410e-02   w:  2.090e+02, b: 3.25559e+00\n",
      "Iteration 6000: Cost 1.74e+03  dj_dw: -1.242e-02, dj_db:  3.045e-02   w:  2.092e+02, b: 2.76500e+00\n",
      "Iteration 7000: Cost 1.74e+03  dj_dw: -5.104e-03, dj_db:  1.251e-02   w:  2.093e+02, b: 2.56340e+00\n",
      "Iteration 8000: Cost 1.74e+03  dj_dw: -2.097e-03, dj_db:  5.141e-03   w:  2.093e+02, b: 2.48056e+00\n",
      "Iteration 9000: Cost 1.74e+03  dj_dw: -8.619e-04, dj_db:  2.113e-03   w:  2.094e+02, b: 2.44652e+00\n",
      "\n",
      "(w,b) found by gradient descent: (209.3590,  2.4325)\n"
     ]
    }
   ],
   "source": [
    "# initialize parameters\n",
    "w_init = 0\n",
    "b_init = 0\n",
    "\n",
    "# some gradient descent settings\n",
    "iterations = 10000\n",
    "tmp_alpha = 1.0e-2\n",
    "\n",
    "# run gradient descent\n",
    "w_final, b_final, J_hist, p_hist = gradient_descent(x_train ,y_train, w_init, b_init, tmp_alpha, \n",
    "                                                    iterations, compute_cost, compute_gradient)\n",
    "print()\n",
    "print(f\"(w,b) found by gradient descent: ({w_final:8.4f},{b_final:8.4f})\")"
   ]
  },
  {
   "cell_type": "markdown",
   "id": "460a4350",
   "metadata": {},
   "source": [
    "### Cost versus iterations of gradient descent \n",
    "\n",
    "A plot of cost versus iterations is a useful measure of progress in gradient descent. Cost should always decrease in successful runs. The change in cost is so rapid initially, it is useful to plot the initial decent on a different scale than the final descent. In the plots below, note the scale of cost on the axes and the iteration step."
   ]
  },
  {
   "cell_type": "code",
   "execution_count": 12,
   "id": "5b5eb75c",
   "metadata": {},
   "outputs": [
    {
     "data": {
      "image/png": "[encoded data removed]",
      "text/plain": [
       "<Figure size 576x288 with 2 Axes>"
      ]
     },
     "metadata": {
      "needs_background": "light"
     },
     "output_type": "display_data"
    }
   ],
   "source": [
    "# plot cost versus iteration  \n",
    "fig, (ax1, ax2) = plt.subplots(1, 2, constrained_layout=True, figsize=(8,4))\n",
    "ax1.plot(J_hist[:100])\n",
    "ax2.plot(1000 + np.arange(len(J_hist[1000:])), J_hist[1000:])\n",
    "ax1.set_title(\"Cost vs. iteration(start)\");  ax2.set_title(\"Cost vs. iteration (end)\")\n",
    "ax1.set_ylabel('Cost')            ;  ax2.set_ylabel('Cost') \n",
    "ax1.set_xlabel('iteration step')  ;  ax2.set_xlabel('iteration step') \n",
    "plt.show()"
   ]
  },
  {
   "cell_type": "markdown",
   "id": "4fbc93ca",
   "metadata": {},
   "source": [
    "### Plot the model with the training set\n",
    "\n",
    "The function below takes the training set and model parameters and plots the model with the training set."
   ]
  },
  {
   "cell_type": "code",
   "execution_count": 13,
   "id": "0492b560",
   "metadata": {},
   "outputs": [],
   "source": [
    "def plot_model_and_train(x, y, w, b):\n",
    "    \"\"\"\n",
    "    Plots the training set with the model's prediction\n",
    "    \n",
    "    Args:\n",
    "      x (ndarray (m,)): input features, m examples \n",
    "      y (ndarray (m,)): target values\n",
    "      w (float or int): weight\n",
    "      b (float or int): bias\n",
    "      \n",
    "    Returns\n",
    "      fig (Figure): pyplot figure\n",
    "    \"\"\"\n",
    "    \n",
    "    f_wb = calc_f(x, w, b,)\n",
    "    \n",
    "    # Create figure\n",
    "    fig = plt.figure()\n",
    "\n",
    "    # Plot our model prediction\n",
    "    plt.plot(x, f_wb, c='b',label='Our Prediction')\n",
    "\n",
    "    # Plot the data points\n",
    "    plt.scatter(x, y, marker='x', c='r',label='Actual Values')\n",
    "\n",
    "    # Set the title\n",
    "    plt.title(\"Housing Prices\")\n",
    "    # Set the y-axis label\n",
    "    plt.ylabel('Price (in 1000s of dollars)')\n",
    "    # Set the x-axis label\n",
    "    plt.xlabel('Size (1000 sqft)')\n",
    "    plt.legend()\n",
    "    plt.show()"
   ]
  },
  {
   "cell_type": "code",
   "execution_count": 14,
   "id": "ce007823",
   "metadata": {},
   "outputs": [
    {
     "data": {
      "image/png": "[encoded data removed]",
      "text/plain": [
       "<Figure size 432x288 with 1 Axes>"
      ]
     },
     "metadata": {
      "needs_background": "light"
     },
     "output_type": "display_data"
    }
   ],
   "source": [
    "plot_model_and_train(x_train, y_train, w_final, b_final)"
   ]
  },
  {
   "cell_type": "markdown",
   "id": "7bd46dda",
   "metadata": {},
   "source": [
    "## Exercise 2\n",
    "\n",
    "What does your model predict for the price of a house with 4000 square feet?\n",
    "\n",
    "Note: the variables `w_final` and `b_final` were assigned to the optimal values of $w$ and $b$ that were found using gradient descent."
   ]
  },
  {
   "cell_type": "code",
   "execution_count": null,
   "id": "7ec713d7",
   "metadata": {},
   "outputs": [],
   "source": []
  },
  {
   "cell_type": "markdown",
   "id": "cd8390a1",
   "metadata": {},
   "source": [
    "## Exercise 3\n",
    "\n",
    "The results of the gradient descent learning algorithm depend on the value of the learning rate $\\alpha$. If the learning rate is too large, the cost will increase instead of decrease.\n",
    "\n",
    "In the code below, change the variable `tmp_alpha` to 0.31, re-run the learning model, and replot the cost as a function of iteration step. What do you notice?"
   ]
  },
  {
   "cell_type": "code",
   "execution_count": 15,
   "id": "91301902",
   "metadata": {},
   "outputs": [
    {
     "name": "stdout",
     "output_type": "stream",
     "text": [
      "Iteration    0: Cost 1.27e+05  dj_dw: -1.170e+03, dj_db: -4.700e+02   w:  3.628e+02, b: 1.45700e+02\n",
      "Iteration 1000: Cost 1.66e+11  dj_dw: -1.347e+06, dj_db: -5.494e+05   w:  2.097e+05, b: 8.54584e+04\n",
      "Iteration 2000: Cost 2.20e+17  dj_dw: -1.553e+09, dj_db: -6.337e+08   w:  2.416e+08, b: 9.85647e+07\n",
      "Iteration 3000: Cost 2.93e+23  dj_dw: -1.792e+12, dj_db: -7.309e+11   w:  2.787e+11, b: 1.13684e+11\n",
      "Iteration 4000: Cost 3.90e+29  dj_dw: -2.066e+15, dj_db: -8.430e+14   w:  3.214e+14, b: 1.31123e+14\n",
      "Iteration 5000: Cost 5.19e+35  dj_dw: -2.383e+18, dj_db: -9.723e+17   w:  3.707e+17, b: 1.51237e+17\n",
      "Iteration 6000: Cost 6.90e+41  dj_dw: -2.749e+21, dj_db: -1.121e+21   w:  4.276e+20, b: 1.74437e+20\n",
      "Iteration 7000: Cost 9.18e+47  dj_dw: -3.171e+24, dj_db: -1.293e+24   w:  4.932e+23, b: 2.01195e+23\n",
      "Iteration 8000: Cost 1.22e+54  dj_dw: -3.657e+27, dj_db: -1.492e+27   w:  5.688e+26, b: 2.32057e+26\n",
      "Iteration 9000: Cost 1.63e+60  dj_dw: -4.218e+30, dj_db: -1.721e+30   w:  6.561e+29, b: 2.67655e+29\n",
      "\n",
      "(w,b) found by gradient descent: (-751411107560045585545226918821888.0000,-306543223013201948521972715487232.0000)\n"
     ]
    },
    {
     "data": {
      "image/png": "[encoded data removed]",
      "text/plain": [
       "<Figure size 576x288 with 2 Axes>"
      ]
     },
     "metadata": {
      "needs_background": "light"
     },
     "output_type": "display_data"
    }
   ],
   "source": [
    "# initialize parameters\n",
    "w_init = 0\n",
    "b_init = 0\n",
    "\n",
    "# some gradient descent settings\n",
    "iterations = 10000\n",
    "tmp_alpha = 0.31\n",
    "\n",
    "# run gradient descent\n",
    "w_final, b_final, J_hist, p_hist = gradient_descent(x_train ,y_train, w_init, b_init, tmp_alpha, \n",
    "                                                    iterations, compute_cost, compute_gradient)\n",
    "print()\n",
    "print(f\"(w,b) found by gradient descent: ({w_final:8.4f},{b_final:8.4f})\")\n",
    "\n",
    "# plot cost versus iteration  \n",
    "fig, (ax1, ax2) = plt.subplots(1, 2, constrained_layout=True, figsize=(8,4))\n",
    "ax1.plot(J_hist[:100])\n",
    "ax2.plot(1000 + np.arange(len(J_hist[1000:])), J_hist[1000:])\n",
    "ax1.set_title(\"Cost vs. iteration(start)\");  ax2.set_title(\"Cost vs. iteration (end)\")\n",
    "ax1.set_ylabel('Cost')            ;  ax2.set_ylabel('Cost') \n",
    "ax1.set_xlabel('iteration step')  ;  ax2.set_xlabel('iteration step') \n",
    "plt.show()"
   ]
  },
  {
   "cell_type": "code",
   "execution_count": null,
   "id": "221253b1",
   "metadata": {},
   "outputs": [],
   "source": []
  }
 ],
 "metadata": {
  "kernelspec": {
   "display_name": "Python 3 (ipykernel)",
   "language": "python",
   "name": "python3"
  },
  "language_info": {
   "codemirror_mode": {
    "name": "ipython",
    "version": 3
   },
   "file_extension": ".py",
   "mimetype": "text/x-python",
   "name": "python",
   "nbconvert_exporter": "python",
   "pygments_lexer": "ipython3",
   "version": "3.8.13"
  }
 },
 "nbformat": 4,
 "nbformat_minor": 5
}
