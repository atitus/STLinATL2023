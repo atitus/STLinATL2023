{
 "cells": [
  {
   "cell_type": "markdown",
   "metadata": {},
   "source": [
    "# Introduction to Probability\n",
    "\n",
    "\n",
    "### Aaron Titus\n",
    "\n",
    "### STLinATL, 2023\n"
   ]
  },
  {
   "cell_type": "markdown",
   "metadata": {},
   "source": [
    "## Objectives"
   ]
  },
  {
   "cell_type": "markdown",
   "metadata": {},
   "source": [
    "We will integrate coding into our science and math courses. Therefore, our goal is not to teach general coding. But rather, our goals are to teach students, **within an authentic scientific and mathematical context**, to:\n",
    "\n",
    "1. Read a program and understand the purpose of different lines of code.\n",
    "2. Edit the program as needed for a particular goal.\n",
    "3. Copy, paste, and edit (reuse) old code for a new problem."
   ]
  },
  {
   "cell_type": "markdown",
   "metadata": {},
   "source": [
    "## Coding Philosophy\n",
    "\n",
    "**Teach students the coding (syntax, functions, and algorithms) they need, when they need it, using minimal working programs that they can edit.**"
   ]
  },
  {
   "cell_type": "markdown",
   "metadata": {},
   "source": [
    "## Google Colab (based on Jupyter Notebook)\n",
    "\n",
    "We will use two types of cells:\n",
    "\n",
    "1. text (or markdown)\n",
    "2. code\n",
    "\n",
    "Double-click the cell to edit the cell.\n",
    "\n",
    "Use shift-enter to render the text or run the code in the cell. In Google Colab, you may also click the play button in the cell."
   ]
  },
  {
   "cell_type": "markdown",
   "metadata": {},
   "source": [
    "# Monte Carlo Models\n",
    "\n",
    "A Monte Carlo model is a description of a system based on a set of rules and random processes. It is named after the casinos in Monte Carlo. We will use functions provided by the `random` package to generate random numbers or integers."
   ]
  },
  {
   "cell_type": "code",
   "execution_count": 1,
   "metadata": {},
   "outputs": [],
   "source": [
    "# import packages\n",
    "import random as rand\n",
    "import matplotlib.pyplot as plt\n",
    "import numpy as np"
   ]
  },
  {
   "cell_type": "markdown",
   "metadata": {},
   "source": [
    "To get a random number between 0 and 1 use `rand.random()`."
   ]
  },
  {
   "cell_type": "code",
   "execution_count": 2,
   "metadata": {},
   "outputs": [
    {
     "name": "stdout",
     "output_type": "stream",
     "text": [
      "0.2516206051314124\n"
     ]
    }
   ],
   "source": [
    "a=rand.random()\n",
    "print(a)"
   ]
  },
  {
   "cell_type": "markdown",
   "metadata": {},
   "source": [
    "Here's a random integer between 1 and 100, including both 1 and 100."
   ]
  },
  {
   "cell_type": "code",
   "execution_count": 3,
   "metadata": {},
   "outputs": [
    {
     "name": "stdout",
     "output_type": "stream",
     "text": [
      "36\n"
     ]
    }
   ],
   "source": [
    "n=rand.randint(1,100)\n",
    "print(n)"
   ]
  },
  {
   "cell_type": "markdown",
   "metadata": {},
   "source": [
    "Here's a random float from a uniform distribution, between 1 and 100."
   ]
  },
  {
   "cell_type": "code",
   "execution_count": 4,
   "metadata": {},
   "outputs": [
    {
     "name": "stdout",
     "output_type": "stream",
     "text": [
      "9.463675923094728\n"
     ]
    }
   ],
   "source": [
    "r=rand.uniform(1,100)\n",
    "print(r)"
   ]
  },
  {
   "cell_type": "markdown",
   "metadata": {},
   "source": [
    "# Example - Tossing a Coin\n",
    "\n",
    "Let's use a conditional statement to toss a coin $N$ times and count the number of times it is heads and the number of times it is tails. We will use a Python random number generator. If a random number is between 0 and 0.5, we will call it a \"heads.\" If a random number is between 0.5 and 1, we will call it \"tails.\"\n",
    "\n",
    "Run the program multiple times. Does the percentage of tosses for 10 flips of a coin change?"
   ]
  },
  {
   "cell_type": "code",
   "execution_count": 5,
   "metadata": {},
   "outputs": [
    {
     "name": "stdout",
     "output_type": "stream",
     "text": [
      "Nheads = 6, percent = 60.0\n",
      "Ntails = 4, percent = 40.0\n"
     ]
    }
   ],
   "source": [
    "N = 10 # number of times we toss a coin\n",
    "\n",
    "Nheads = 0 # this is an integer that counts each head\n",
    "Ntails = 0 # this is an integer that counts each tail\n",
    "\n",
    "for i in range(1,N+1):\n",
    "    num = rand.random()\n",
    "    if num < 0.5:\n",
    "        Nheads = Nheads + 1\n",
    "    else:\n",
    "        Ntails = Ntails + 1\n",
    "    \n",
    "print(\"Nheads = {:d}, percent = {:.1f}\".format(Nheads, Nheads/N*100))\n",
    "print(\"Ntails = {:d}, percent = {:.1f}\".format(Ntails, Ntails/N*100))"
   ]
  },
  {
   "cell_type": "markdown",
   "metadata": {},
   "source": [
    "Let's graph the percentage of heads (or tails) as a function of number of tosses."
   ]
  },
  {
   "cell_type": "code",
   "execution_count": 6,
   "metadata": {},
   "outputs": [
    {
     "data": {
      "image/png": "[encoded data removed]",
      "text/plain": [
       "<Figure size 576x432 with 1 Axes>"
      ]
     },
     "metadata": {
      "needs_background": "light"
     },
     "output_type": "display_data"
    },
    {
     "name": "stdout",
     "output_type": "stream",
     "text": [
      "Nheads = 6, percent = 60.0\n",
      "Ntails = 4, percent = 40.0\n"
     ]
    }
   ],
   "source": [
    "N = 10 # total number of times we toss a coin\n",
    "\n",
    "Nheads = 0 # this is an integer that counts each head\n",
    "Ntails = 0 # this is an integer that counts each tail\n",
    "\n",
    "# lists to store data\n",
    "Ndata = []\n",
    "Hdata = []\n",
    "Tdata = []\n",
    "\n",
    "for i in range(1,N+1): # i is the toss number\n",
    "    num = rand.random() # select random number between 0 and 1\n",
    "    \n",
    "    # determine if heads or tails\n",
    "    if num < 0.5:\n",
    "        Nheads = Nheads + 1\n",
    "    else:\n",
    "        Ntails = Ntails + 1\n",
    "    \n",
    "    # calculate percentage of heads and tails for ith toss\n",
    "    Hpercent = Nheads/i*100\n",
    "    Tpercent = Ntails/i*100\n",
    "    \n",
    "    # store results in lists for graphing\n",
    "    Ndata.append(i)\n",
    "    Hdata.append(Hpercent)\n",
    "    Tdata.append(Tpercent)\n",
    "\n",
    "# plot the calculated data\n",
    "plt.figure(figsize=(8,6))\n",
    "plt.title('Percentage of Tosses that are Heads')\n",
    "plt.xlabel('N tosses')\n",
    "plt.ylabel('Percent Heads (%)')\n",
    "plt.grid(which='both', axis='both')\n",
    "plt.plot(Ndata,Hdata,'r-')\n",
    "plt.show()\n",
    "\n",
    "print(\"Nheads = {:d}, percent = {:.1f}\".format(Nheads, Hpercent))\n",
    "print(\"Ntails = {:d}, percent = {:.1f}\".format(Ntails, Tpercent))"
   ]
  },
  {
   "cell_type": "markdown",
   "metadata": {},
   "source": [
    "# Example - Game of Chance\n",
    "\n",
    "In this example inspired by an article in [Towards AI on medium.com](https://medium.com/towards-artificial-intelligence/monte-carlo-simulation-an-in-depth-tutorial-with-python-bcf6eb7856c8#6185), we will explore the general question: \"How do casinos earn money?\" In this case, we have a simplified casino game where a playeer selects a chip from a bag of chips. The rules are:\n",
    "\n",
    "- There are chips containing numbers ranging from 1–100 in a bag.\n",
    "- Players can bet on even or odd chips. If they win, they double the money waged. If they lose, they lose the money waged.\n",
    "- In this game, 10 and 11 are special numbers. If we bet on evens, then 10 will be counted as an odd number, and if we bet on odds, then 11 will be counted as an even number. Therefore:\n",
    "  - if we bet on even numbers and we get 10 then we lose.\n",
    "  - if we bet on odd numbers and we get 11 then we lose.\n",
    "\n",
    "As a result of these rules, there are 100 possible outcomes when you select a chip from the bag. In 49 of the possible outcomes, you will win. In 51 of the possible outcomes you will lose. Therefore, the house (i.e. casino) always has a higher probability of winning than you do.\n",
    "\n",
    "The probability you will win is $49/100 = 0.49$ or 49%.\n",
    "\n",
    "The probability you will lose is $51/100 = 0.51$ or 51%.\n",
    "\n",
    "The difference in the probabilities (2%) is in favor of the house and is called the **house edge**. Another way to think about it is, for every \\\\$100 you bet, the house earns \\\\$2. Sure the house doesn't win every bet. But on average, for a large amount of money wagered, the house will win 2% of money wagered which is \\\\$2 on every \\\\$100.\n",
    "\n",
    "**Your job as a casino consultant is to simulate a person who starts with \\\\$10,000 and bets \\\\$100 per draw of a chip for a total of 50 bets.**"
   ]
  },
  {
   "cell_type": "markdown",
   "metadata": {},
   "source": [
    "## Exercise 1\n",
    "\n",
    "How much money do you expect the house to earn, on average, for this customer?"
   ]
  },
  {
   "cell_type": "markdown",
   "metadata": {},
   "source": [
    "### Define the Model\n",
    "\n",
    "Run each of the code blocks below which implements the model in Python."
   ]
  },
  {
   "cell_type": "code",
   "execution_count": 7,
   "metadata": {},
   "outputs": [],
   "source": [
    "def bet(choice=\"Even\"):\n",
    "\n",
    "    #Get random number between 1-100.\n",
    "    note = rand.randint(1,100)\n",
    "\n",
    "    #For even :\n",
    "    if choice==\"Even\":\n",
    "        # 10 is not considered an even number.\n",
    "        if note%2!=0 or note==10:\n",
    "            return False\n",
    "        elif note%2==0:\n",
    "            return True\n",
    "\n",
    "    #For odd :        \n",
    "    elif choice==\"Odd\":\n",
    "        # 11 is not considered an odd number.\n",
    "        if note%2==0 or note==11:\n",
    "            return False\n",
    "        elif note%2==1:\n",
    "            return True  \n",
    "\n",
    "#Main function :\n",
    "def play(bet_money, total_bets, choice=\"Even\"):\n",
    "\n",
    "    total_money = 0\n",
    "    num_of_plays = []\n",
    "    money = []\n",
    "    \n",
    "    num_of_plays.append(0)\n",
    "    money.append(total_money)\n",
    "      \n",
    "    for play in range(1,total_bets): #Start with play=1\n",
    "        #Win :\n",
    "        if bet(choice):\n",
    "            #Add money to our funds\n",
    "            total_money = total_money + bet_money\n",
    "            #Append the play number\n",
    "            num_of_plays.append(play)\n",
    "            #Append the new fund amount\n",
    "            money.append(total_money)\n",
    "        \n",
    "        #Lose :\n",
    "        else:\n",
    "            #Subtract money from our funds\n",
    "            total_money = total_money - bet_money \n",
    "            #Append the play number\n",
    "            num_of_plays.append(play)\n",
    "            #Append the new fund amount\n",
    "            money.append(total_money)\n",
    "    \n",
    "    #Plot the data :\n",
    "    plt.figure()\n",
    "    plt.ylabel('Profit ($)')\n",
    "    plt.xlabel('Number of bets')\n",
    "    plt.plot(num_of_plays,money)\n",
    "    plt.grid(which='both', axis='both')\n",
    "    plt.show()\n",
    "\n",
    "    return(total_money)"
   ]
  },
  {
   "cell_type": "markdown",
   "metadata": {},
   "source": [
    "### Run the Model\n",
    "\n",
    "Run the Python function `play()` with the following syntax:\n",
    "\n",
    "```\n",
    "play(bet_money, total_bets, choice=\"Even\")\n",
    "```\n",
    "\n",
    "where `bet_money` is the amount of money the person bets each time a chip is drawn, `total_bets` is the total number of times a chip will be drawn and `choice` is \"Even\" for a bet on an even chip and \"Odd\" for a bet on an odd chip.\n",
    "\n",
    "The result is a graph that shows the total money made (positive) or lost (negative) after each bet by the player."
   ]
  },
  {
   "cell_type": "code",
   "execution_count": 8,
   "metadata": {},
   "outputs": [
    {
     "data": {
      "image/png": "[encoded data removed]",
      "text/plain": [
       "<Figure size 432x288 with 1 Axes>"
      ]
     },
     "metadata": {
      "needs_background": "light"
     },
     "output_type": "display_data"
    },
    {
     "name": "stdout",
     "output_type": "stream",
     "text": [
      "The gambler gains (or loses if negative) $100\n"
     ]
    }
   ],
   "source": [
    "gambler_profit = play(100, 50, \"Even\")\n",
    "print(\"The gambler gains (or loses if negative) ${:.0f}\".format(gambler_profit))"
   ]
  },
  {
   "cell_type": "markdown",
   "metadata": {},
   "source": [
    "## Exercise 2\n",
    "\n",
    "For 100 dollars waged, we expect the player to lose 2 dollars on each bet, or 100 dollars on 50 bets. But sometimes the player makes or loses much more than this.\n",
    "\n",
    "**Over the long run, by continuing to place more and more bets, do we expect the player to earn money or lose money?**\n",
    "\n",
    "Investigate this question with your model. Copy the previous cell of code and paste it below. Run it for 100 bets."
   ]
  },
  {
   "cell_type": "code",
   "execution_count": null,
   "metadata": {},
   "outputs": [],
   "source": []
  },
  {
   "cell_type": "markdown",
   "metadata": {},
   "source": [
    "Copy the previous cell of code and paste it below. Instead of 100 bets, run it for 500 bets."
   ]
  },
  {
   "cell_type": "code",
   "execution_count": null,
   "metadata": {},
   "outputs": [],
   "source": []
  },
  {
   "cell_type": "markdown",
   "metadata": {},
   "source": [
    "Run it for 1000 bets."
   ]
  },
  {
   "cell_type": "code",
   "execution_count": null,
   "metadata": {},
   "outputs": [],
   "source": []
  },
  {
   "cell_type": "markdown",
   "metadata": {},
   "source": [
    "Run it for 10,000 bets."
   ]
  },
  {
   "cell_type": "code",
   "execution_count": null,
   "metadata": {},
   "outputs": [],
   "source": []
  },
  {
   "cell_type": "markdown",
   "metadata": {},
   "source": [
    "Run it for 100,000 bets."
   ]
  },
  {
   "cell_type": "code",
   "execution_count": null,
   "metadata": {},
   "outputs": [],
   "source": []
  },
  {
   "cell_type": "markdown",
   "metadata": {},
   "source": [
    "If you are a gambler, should you bet fewer times or more times?"
   ]
  },
  {
   "cell_type": "markdown",
   "metadata": {},
   "source": [
    "If waging 100 dollars per bet, we expect the player to lose 2 dollars per bet. How much did this gambler lose per bet for 100,000 bets the last time you ran your model?"
   ]
  },
  {
   "cell_type": "markdown",
   "metadata": {},
   "source": [
    "If you were to graph the total amount of money lost as a function of the number of gets, what do you expect the slope of the graph to be?"
   ]
  }
 ],
 "metadata": {
  "kernelspec": {
   "display_name": "Python 3 (ipykernel)",
   "language": "python",
   "name": "python3"
  },
  "language_info": {
   "codemirror_mode": {
    "name": "ipython",
    "version": 3
   },
   "file_extension": ".py",
   "mimetype": "text/x-python",
   "name": "python",
   "nbconvert_exporter": "python",
   "pygments_lexer": "ipython3",
   "version": "3.8.13"
  }
 },
 "nbformat": 4,
 "nbformat_minor": 4
}
