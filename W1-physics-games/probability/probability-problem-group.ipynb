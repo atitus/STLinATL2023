{
 "cells": [
  {
   "cell_type": "markdown",
   "metadata": {},
   "source": [
    "# Assessment - Monte Carlo Simulations\n",
    "\n",
    "## Group Part\n"
   ]
  },
  {
   "cell_type": "markdown",
   "metadata": {},
   "source": [
    "# The Problem\n",
    "\n",
    "### Is it smart to foul at the end of a basketball game?\n",
    "\n",
    "In the 2005 Conference USA basketball tournament, Memphis was two points behind Louisville. At the buzzer, Memphis’s Darius Washington attempted a 3-pointer. He missed but was fouled so he went to the line for three free throws. Each made free throw is worth 1 point.\n",
    "\n"
   ]
  },
  {
   "cell_type": "markdown",
   "metadata": {},
   "source": [
    "## Exercise 1\n",
    "\n",
    "Darius Washington was a 72% free-throw shooter. Write a Monte Carlo simulation to find the probability that Memphis will win, lose or go into overtime. Note that in each \"experiment\" (i.e. iteration of a loop), you have to do three free-throws."
   ]
  },
  {
   "cell_type": "code",
   "execution_count": null,
   "metadata": {},
   "outputs": [],
   "source": []
  },
  {
   "cell_type": "markdown",
   "metadata": {},
   "source": [
    "## Exercise 2\n",
    "\n",
    "If Washington had not been fouled, he may have made the 3-pointer. If he is a 40% 3-point shooter, do you think Louisville was smart to foul? Why or why not?"
   ]
  },
  {
   "cell_type": "markdown",
   "metadata": {},
   "source": [
    "## Exercise 3\n",
    "\n",
    "Sports analytics is a fairly new field of study. The popular book *Moneyball* by Michael Lewis highlighted the emergence of this field and its role in assembling the highly successful and relatively inexpensive Oakland As baseball team in 2002. (It become a successful film as well.) In the NBA, the Houston Rockets relied on data analysis to play a very small lineup of three-point shooters who shot long, less probable three shots instead of shorter more probable two-point shots. The outcome was a higher scoring team on average, and the NBA game was changed forever. Today, NFL football coaches use probability calculations to go for two points (instead one one point) or go for a first down (instead of punting), often against traditional wisdom.\n",
    "\n",
    "Choose a topic or example in the area of sports analytics that discusses probability and write an essay on how *an understanding of probability* affected decisions. This is meant to be a broad question. You can focus on sports themselves or on sports betting or a related area. If you hate sports, then choose a topic in business analytics where understanding probability changed the business and decision making.\n",
    "\n",
    "**About 500 is a good estimate for the length of your essay. I'm not counting words, but rather, I'm looking for coherence. Cite your sources.**"
   ]
  },
  {
   "cell_type": "code",
   "execution_count": null,
   "metadata": {},
   "outputs": [],
   "source": []
  }
 ],
 "metadata": {
  "kernelspec": {
   "display_name": "Python 3 (ipykernel)",
   "language": "python",
   "name": "python3"
  },
  "language_info": {
   "codemirror_mode": {
    "name": "ipython",
    "version": 3
   },
   "file_extension": ".py",
   "mimetype": "text/x-python",
   "name": "python",
   "nbconvert_exporter": "python",
   "pygments_lexer": "ipython3",
   "version": "3.8.13"
  }
 },
 "nbformat": 4,
 "nbformat_minor": 4
}
